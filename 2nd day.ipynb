{
 "cells": [
  {
   "cell_type": "code",
   "execution_count": 1,
   "id": "8b630fd8",
   "metadata": {},
   "outputs": [
    {
     "name": "stdout",
     "output_type": "stream",
     "text": [
      "u\n",
      "compuuterRsciEnc\n"
     ]
    }
   ],
   "source": [
    "python / java diff\n",
    "1.compiler/intrepreter\n",
    "2.code coverage easy\n",
    "3.Structure easy \n",
    "4.simple\n",
    "\n",
    "\n",
    "\n",
    "\n",
    "#-----comment\n",
    "\"\"\"\n",
    "jbcjhdbcjewvc dnsc\n",
    "wn cbewjhcnejkcnkjec\n",
    " cebcjnewckewc\n",
    "  bchewjcnewcmklewcmw\n",
    "\n",
    "\n",
    "a =10\n",
    "\"\"\"\n",
    "a =10"
   ]
  },
  {
   "cell_type": "code",
   "execution_count": 3,
   "id": "664256ce",
   "metadata": {},
   "outputs": [
    {
     "name": "stdout",
     "output_type": "stream",
     "text": [
      "9\n"
     ]
    }
   ],
   "source": [
    "#len -- Length of the string\n",
    "\n",
    "a = \"Ravikumar\"\n",
    "print(len(a))\n",
    "\n"
   ]
  },
  {
   "cell_type": "code",
   "execution_count": 5,
   "id": "165a42b7",
   "metadata": {},
   "outputs": [
    {
     "name": "stdout",
     "output_type": "stream",
     "text": [
      "hello python\n"
     ]
    }
   ],
   "source": [
    "#Seperator = 1St task \n",
    "\n",
    "\n"
   ]
  },
  {
   "cell_type": "code",
   "execution_count": null,
   "id": "c824bf3d",
   "metadata": {},
   "outputs": [],
   "source": [
    "#Operators\n",
    "\n",
    "+- */ // %\n"
   ]
  },
  {
   "cell_type": "code",
   "execution_count": 6,
   "id": "fbc51da3",
   "metadata": {},
   "outputs": [
    {
     "name": "stdout",
     "output_type": "stream",
     "text": [
      "15\n"
     ]
    }
   ],
   "source": [
    "a = 5\n",
    "b = 10\n",
    "c= a+b\n",
    "print(c)    "
   ]
  },
  {
   "cell_type": "code",
   "execution_count": 7,
   "id": "c8a7c0f2",
   "metadata": {},
   "outputs": [
    {
     "name": "stdout",
     "output_type": "stream",
     "text": [
      "-5\n"
     ]
    }
   ],
   "source": [
    "a = 5\n",
    "b = 10\n",
    "c= a-b\n",
    "print(c)    "
   ]
  },
  {
   "cell_type": "code",
   "execution_count": 8,
   "id": "4feb7e34",
   "metadata": {},
   "outputs": [
    {
     "name": "stdout",
     "output_type": "stream",
     "text": [
      "50\n"
     ]
    }
   ],
   "source": [
    "a = 5\n",
    "b = 10\n",
    "c= a*b\n",
    "print(c)    "
   ]
  },
  {
   "cell_type": "code",
   "execution_count": 12,
   "id": "373d86d6",
   "metadata": {},
   "outputs": [
    {
     "name": "stdout",
     "output_type": "stream",
     "text": [
      "5\n"
     ]
    }
   ],
   "source": [
    "a = 5\n",
    "b = 10\n",
    "c= ab\n",
    "print(c)    "
   ]
  },
  {
   "cell_type": "code",
   "execution_count": null,
   "id": "c2a2ebad",
   "metadata": {},
   "outputs": [],
   "source": []
  },
  {
   "cell_type": "code",
   "execution_count": null,
   "id": "51b2b035",
   "metadata": {},
   "outputs": [],
   "source": []
  },
  {
   "cell_type": "code",
   "execution_count": null,
   "id": "b81b7676",
   "metadata": {},
   "outputs": [],
   "source": []
  },
  {
   "cell_type": "code",
   "execution_count": 10,
   "id": "9ede4b05",
   "metadata": {},
   "outputs": [],
   "source": [
    "#Tasks\n",
    "\n",
    "#1.Build in functions each and every function program - monday\n",
    "\n",
    "# Dynamically typed - means what\n",
    "\n",
    "#sep - use one code\n",
    "\n",
    "#Operators- arithamatic,assignment,comparision\n",
    "\n",
    "#unicode and Ascii\n",
    "\n",
    "\"\"\"\n",
    "what is function\n",
    "what is user def function\n",
    "what is inbuilt function\n",
    "\n",
    "\n",
    "1. what is Keyword? please explain about 10 keywords in python\n",
    "2. What is complex datatype please explain with example\n",
    "3. end sep parameter in print function\n",
    "4. Try some programs for print and type\n",
    "\n",
    "\n",
    "\"\"\"\n"
   ]
  },
  {
   "cell_type": "code",
   "execution_count": null,
   "id": "e3f2091e",
   "metadata": {},
   "outputs": [],
   "source": []
  }
 ],
 "metadata": {
  "kernelspec": {
   "display_name": "Python 3 (ipykernel)",
   "language": "python",
   "name": "python3"
  },
  "language_info": {
   "codemirror_mode": {
    "name": "ipython",
    "version": 3
   },
   "file_extension": ".py",
   "mimetype": "text/x-python",
   "name": "python",
   "nbconvert_exporter": "python",
   "pygments_lexer": "ipython3",
   "version": "3.9.12"
  }
 },
 "nbformat": 4,
 "nbformat_minor": 5
}
