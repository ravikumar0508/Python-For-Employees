{
 "cells": [
  {
   "cell_type": "code",
   "execution_count": null,
   "id": "ccc582f3",
   "metadata": {},
   "outputs": [],
   "source": [
    "#python \n",
    "#anaconda Navigator\n",
    "#github account "
   ]
  },
  {
   "cell_type": "code",
   "execution_count": 10,
   "id": "82bdae71",
   "metadata": {},
   "outputs": [
    {
     "ename": "SyntaxError",
     "evalue": "cannot assign to literal (1911197471.py, line 7)",
     "output_type": "error",
     "traceback": [
      "\u001b[0;36m  Input \u001b[0;32mIn [10]\u001b[0;36m\u001b[0m\n\u001b[0;31m    10 =a\u001b[0m\n\u001b[0m    ^\u001b[0m\n\u001b[0;31mSyntaxError\u001b[0m\u001b[0;31m:\u001b[0m cannot assign to literal\n"
     ]
    }
   ],
   "source": [
    "#variables - -- --- containers\n",
    "\n",
    "\n",
    "\n",
    "#variables creation \n",
    "\n",
    "10 =a\n",
    "print(10)\n",
    "# an integer cannot be a variable\n",
    "\n",
    "a = 10\n",
    "print(a)\n",
    "\n",
    "\n",
    "#special characters cannot be a variable\n",
    "\n",
    "#Keywords & Inbuilt functions cannot be a variable\n",
    "##_ can be assign\n",
    "\n",
    "\n",
    "#1) to be find the next one"
   ]
  },
  {
   "cell_type": "code",
   "execution_count": null,
   "id": "7a0e37e9",
   "metadata": {},
   "outputs": [],
   "source": [
    "#Data types\n",
    "\n",
    "#int - Number 1 to ......... -1...........\n",
    "#float - 1.-------- -1.......\n",
    "#string - jnejcnenckcnejncejcnkcjc\n",
    "#boolean -True or False\n",
    "\n",
    "\n",
    "\n",
    "\n",
    "#python 3 python 2 differnce\n",
    "\n",
    "#python java\n",
    "\n",
    "#python why\n",
    "\n",
    "#advantages of python \n",
    "\n",
    "\n",
    "\n",
    "#type\n",
    "\n",
    "#5) - to be find \n",
    "\n",
    "\n",
    "\n",
    "\n",
    "\n"
   ]
  },
  {
   "cell_type": "code",
   "execution_count": 18,
   "id": "6e742e6a",
   "metadata": {},
   "outputs": [
    {
     "name": "stdout",
     "output_type": "stream",
     "text": [
      "10\n",
      "<class 'int'>\n",
      "<class 'float'>\n",
      "<class 'bool'>\n",
      "<class 'str'>\n",
      "ravi\n"
     ]
    }
   ],
   "source": [
    "a =10\n",
    "b =10.5\n",
    "c = True\n",
    "d =\"ravi\"\n",
    "!find =?\n",
    "print(a)\n",
    "print(type(a))\n",
    "print(type(b))\n",
    "print(type(c))\n",
    "print(type(d))\n",
    "ravi =\"ravi\"\n",
    "print(ravi)\n",
    "\n",
    "\n",
    "#Generic:\n",
    "#every data type examples\n",
    "\n",
    "\n",
    "#Adventure\n",
    "#data conversion table\n",
    "\n",
    "\n"
   ]
  },
  {
   "cell_type": "code",
   "execution_count": 37,
   "id": "6b06ccf5",
   "metadata": {},
   "outputs": [
    {
     "name": "stdout",
     "output_type": "stream",
     "text": [
      "<class 'float'>\n",
      "<class 'bool'>\n"
     ]
    }
   ],
   "source": [
    "a = 10.04\n",
    "print(type(a))\n",
    "c=(int(a))\n",
    "d=(str(a))\n",
    "e =(bool(a))\n",
    "f =(float(a))\n",
    "\n",
    "print(type(f))\n"
   ]
  },
  {
   "cell_type": "code",
   "execution_count": 25,
   "id": "41d8fa02",
   "metadata": {},
   "outputs": [
    {
     "name": "stdout",
     "output_type": "stream",
     "text": [
      "<class 'float'>\n"
     ]
    }
   ],
   "source": [
    "a =10\n",
    "b =(float(a))\n",
    "print(type(b))\n",
    "\n",
    "\n",
    "str\n",
    "float\n",
    "bool\n",
    "int\n",
    "\n",
    "\n"
   ]
  },
  {
   "cell_type": "code",
   "execution_count": null,
   "id": "2d6f7580",
   "metadata": {},
   "outputs": [],
   "source": [
    "2 not possible "
   ]
  },
  {
   "cell_type": "code",
   "execution_count": null,
   "id": "911431d5",
   "metadata": {},
   "outputs": [],
   "source": [
    "#task\n",
    "\n",
    "#pre req\n",
    "##1) to be find the next one\n",
    "#2) to be find the next one\n",
    "#3) \n",
    "#python 3 python 2 differnce\n",
    "\n",
    "#python java\n",
    "\n",
    "#python why\n",
    "\n",
    "#advantages of python \n",
    "\n",
    "#example for all the data type\n",
    "\n",
    "#\n"
   ]
  }
 ],
 "metadata": {
  "kernelspec": {
   "display_name": "Python 3 (ipykernel)",
   "language": "python",
   "name": "python3"
  },
  "language_info": {
   "codemirror_mode": {
    "name": "ipython",
    "version": 3
   },
   "file_extension": ".py",
   "mimetype": "text/x-python",
   "name": "python",
   "nbconvert_exporter": "python",
   "pygments_lexer": "ipython3",
   "version": "3.9.12"
  }
 },
 "nbformat": 4,
 "nbformat_minor": 5
}
